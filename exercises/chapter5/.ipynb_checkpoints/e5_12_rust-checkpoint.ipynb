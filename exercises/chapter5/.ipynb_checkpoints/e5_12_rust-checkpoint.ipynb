{
 "cells": [
  {
   "cell_type": "code",
   "execution_count": 5,
   "metadata": {},
   "outputs": [],
   "source": [
    "//Install plotters\n",
    ":dep plotters = { version = \"0.2.14\", default_features = false, features = [\"evcxr\"] }\n",
    "//Install image\n",
    ":dep image={version=\"0.23.*\"}\n",
    "// Load external source code\n",
    ":dep e5_12 = {path = \"e5_12\"}"
   ]
  },
  {
   "cell_type": "markdown",
   "metadata": {},
   "source": [
    "## Exploring Starts"
   ]
  },
  {
   "cell_type": "code",
   "execution_count": 10,
   "metadata": {},
   "outputs": [],
   "source": [
    "use e5_12::*;\n",
    "use image::{DynamicImage};\n",
    "let race_track: DynamicImage = image::open(\"race_track.jpg\").unwrap();\n",
    "let race_env = RaceTrackEnv::new(&race_track.to_rgb());"
   ]
  },
  {
   "cell_type": "code",
   "execution_count": 11,
   "metadata": {},
   "outputs": [
    {
     "ename": "Error",
     "evalue": "`image::dynimage::DynamicImage` doesn't implement `std::fmt::Debug`",
     "output_type": "error",
     "traceback": [
      "race_track",
      "\u001b[91m^^^^^^^^^^\u001b[0m \u001b[94m`image::dynimage::DynamicImage` cannot be formatted using `{:?}` because it doesn't implement `std::fmt::Debug`\u001b[0m",
      "`image::dynimage::DynamicImage` doesn't implement `std::fmt::Debug`"
     ]
    }
   ],
   "source": [
    "evcxr_figure(race_track.dimesions(), |root| {\n",
    "}"
   ]
  },
  {
   "cell_type": "code",
   "execution_count": null,
   "metadata": {},
   "outputs": [],
   "source": []
  }
 ],
 "metadata": {
  "kernelspec": {
   "display_name": "Rust",
   "language": "rust",
   "name": "rust"
  },
  "language_info": {
   "codemirror_mode": "rust",
   "file_extension": ".rs",
   "mimetype": "text/rust",
   "name": "Rust",
   "pygment_lexer": "rust",
   "version": ""
  }
 },
 "nbformat": 4,
 "nbformat_minor": 2
}
