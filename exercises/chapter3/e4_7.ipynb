{
 "cells": [
  {
   "cell_type": "code",
   "execution_count": 20,
   "metadata": {},
   "outputs": [],
   "source": [
    "\n",
    "import numpy as np\n",
    "from itertools import product\n",
    "from tqdm.notebook import tqdm\n",
    "\n",
    "\"\"\"\n",
    "S is the set of all possible states\n",
    "R is the set of all possible rewards\n",
    "p(s', r | s, a) is the dynamics\n",
    "list of actions A(s) for all s in S\n",
    "theta is how well to aproximate the true value funtion.\n",
    "\"\"\"\n",
    "def policy_iteration(S:[int], R:[int],p:callable, A:callable, gamma:float, theta:float) -> tuple:\n",
    "    # initalize\n",
    "    V = dict()\n",
    "    pi = dict()\n",
    "    for s in S:\n",
    "        V[s] = 0\n",
    "        pi[s] = 0\n",
    "    \n",
    "    policy_stable = False\n",
    "    while not policy_stable:\n",
    "        # evaluate policy\n",
    "        while True:\n",
    "            delta = 0\n",
    "            for s in tqdm(S):\n",
    "                v = V[s]\n",
    "                V[s] = sum([p(s_,r,s,pi[s]) * (r + gamma*V[s]) for s_, r in product(S, R)])\n",
    "                delta = max(delta, np.abs(v - V[s]))\n",
    "            print(delta)\n",
    "            if delta < theta:\n",
    "                break\n",
    "        \n",
    "        # update policy\n",
    "        policy_stable = True    \n",
    "        for s in S:\n",
    "            old_action = pi[s]\n",
    "            actions = A(s)\n",
    "            pi[s] = actions[\n",
    "                np.argmax(\n",
    "                    sum([p(s_,r,s,a) * (r + gamma*V[s]) for s_, r in product(S, R)]) \n",
    "                for a in actions\n",
    "            )]\n",
    "            if old_action != pi[s]:\n",
    "                policy_stable = False\n",
    "        return pi, V\n",
    "\n"
   ]
  },
  {
   "cell_type": "code",
   "execution_count": 21,
   "metadata": {},
   "outputs": [
    {
     "output_type": "stream",
     "name": "stdout",
     "text": "{(7, 3), (16, 9), (19, 4), (17, 20), (20, 7), (18, 19), (8, 5), (9, 0), (10, 7), (0, 17), (14, 1), (12, 17), (15, 4), (13, 20), (3, 2), (4, 5), (16, 0), (19, 13), (17, 13), (20, 14), (18, 10), (8, 12), (9, 9), (10, 14), (8, 18), (11, 15), (9, 19), (14, 8), (12, 8), (15, 13), (13, 13), (2, 18), (0, 14), (3, 11), (1, 15), (4, 12), (2, 12), (5, 1), (3, 17), (16, 7), (6, 14), (19, 18), (17, 6), (7, 15), (18, 5), (10, 9), (11, 4), (9, 20), (14, 19), (12, 7), (10, 19), (15, 10), (13, 6), (0, 5), (1, 0), (4, 11), (2, 7), (5, 10), (6, 1), (4, 17), (7, 4), (5, 20), (16, 20), (19, 1), (17, 17), (8, 0), (15, 19), (11, 19), (12, 20), (16, 11), (6, 18), (19, 6), (17, 10), (20, 1), (18, 17), (8, 7), (9, 6), (10, 5), (11, 8), (0, 19), (14, 7), (12, 19), (1, 18), (15, 6), (13, 18), (0, 9), (3, 4), (4, 7), (5, 6), (16, 2), (19, 15), (17, 3), (7, 16), (20, 8), (18, 8), (8, 14), (9, 15), (10, 12), (8, 20), (11, 1), (9, 17), (14, 14), (12, 10), (15, 15), (13, 11), (2, 16), (0, 0), (3, 13), (1, 13), (4, 14), (2, 10), (5, 15), (3, 19), (6, 12), (4, 20), (19, 20), (17, 4), (7, 9), (18, 3), (11, 6), (14, 17), (12, 1), (10, 17), (15, 20), (13, 4), (0, 7), (1, 6), (2, 5), (5, 8), (6, 7), (4, 19), (7, 6), (5, 18), (19, 3), (20, 4), (18, 20), (8, 2), (9, 3), (14, 2), (3, 1), (16, 13), (6, 16), (19, 8), (17, 8), (20, 3), (18, 15), (8, 9), (9, 4), (10, 3), (11, 10), (14, 5), (12, 13), (1, 16), (15, 0), (13, 16), (0, 11), (3, 6), (1, 10), (4, 1), (5, 4), (16, 4), (6, 11), (19, 17), (17, 1), (7, 18), (20, 10), (18, 6), (9, 13), (10, 10), (11, 3), (14, 12), (12, 4), (10, 20), (15, 9), (13, 9), (0, 2), (3, 15), (1, 3), (4, 8), (2, 8), (5, 13), (6, 2), (7, 11), (20, 17), (18, 1), (16, 17), (12, 3), (13, 2), (1, 4), (2, 3), (6, 5), (7, 0), (5, 16), (16, 8), (19, 5), (20, 6), (18, 18), (8, 4), (9, 1), (10, 6), (0, 16), (14, 0), (12, 16), (15, 5), (3, 3), (4, 4), (16, 15), (19, 10), (17, 14), (20, 13), (18, 13), (8, 11), (9, 10), (10, 1), (8, 17), (11, 12), (14, 11), (12, 15), (15, 2), (13, 14), (0, 13), (3, 8), (1, 8), (4, 3), (2, 15), (5, 2), (16, 6), (6, 9), (19, 19), (17, 7), (7, 12), (20, 20), (18, 4), (10, 8), (11, 5), (14, 18), (12, 6), (10, 18), (15, 11), (13, 7), (0, 4), (1, 1), (4, 10), (2, 6), (5, 11), (6, 0), (4, 16), (7, 5), (20, 19), (16, 19), (17, 18), (15, 16), (13, 0), (11, 16), (2, 1), (7, 2), (16, 10), (19, 7), (17, 11), (20, 0), (18, 16), (8, 6), (9, 7), (10, 4), (11, 9), (0, 18), (14, 6), (12, 18), (1, 19), (15, 7), (13, 19), (0, 8), (3, 5), (4, 6), (5, 7), (16, 1), (6, 20), (19, 12), (17, 12), (7, 17), (20, 15), (18, 11), (8, 13), (9, 8), (10, 15), (8, 19), (11, 14), (9, 18), (14, 9), (12, 9), (1, 20), (15, 12), (13, 12), (2, 19), (0, 15), (3, 10), (1, 14), (4, 13), (2, 13), (5, 0), (3, 16), (6, 15), (17, 5), (7, 14), (18, 2), (11, 7), (14, 16), (12, 0), (10, 16), (13, 5), (0, 6), (1, 7), (2, 4), (5, 9), (6, 6), (4, 18), (7, 7), (5, 19), (19, 0), (17, 16), (8, 1), (15, 18), (11, 18), (16, 12), (6, 19), (19, 9), (17, 9), (20, 2), (18, 14), (8, 8), (9, 5), (10, 2), (11, 11), (0, 20), (14, 4), (12, 12), (1, 17), (15, 1), (13, 17), (0, 10), (3, 7), (1, 11), (4, 0), (5, 5), (16, 3), (6, 10), (19, 14), (17, 2), (7, 19), (20, 9), (18, 9), (8, 15), (9, 14), (10, 13), (11, 0), (9, 16), (14, 15), (12, 11), (15, 14), (13, 10), (2, 17), (0, 1), (3, 12), (1, 12), (4, 15), (2, 11), (5, 14), (3, 18), (6, 13), (7, 8), (20, 16), (18, 0), (16, 16), (12, 2), (13, 3), (1, 5), (2, 2), (6, 4), (7, 1), (5, 17), (19, 2), (20, 5), (8, 3), (9, 2), (11, 20), (14, 3), (3, 0), (16, 14), (6, 17), (19, 11), (17, 15), (7, 20), (20, 12), (18, 12), (8, 10), (9, 11), (10, 0), (8, 16), (11, 13), (14, 10), (12, 14), (15, 3), (13, 15), (2, 20), (0, 12), (3, 9), (1, 9), (4, 2), (2, 14), (5, 3), (16, 5), (6, 8), (19, 16), (17, 0), (7, 13), (20, 11), (18, 7), (9, 12), (10, 11), (11, 2), (14, 13), (12, 5), (15, 8), (13, 8), (0, 3), (3, 14), (1, 2), (4, 9), (2, 9), (5, 12), (3, 20), (6, 3), (7, 10), (20, 18), (16, 18), (17, 19), (14, 20), (15, 17), (13, 1), (11, 17), (2, 0)}\n"
    }
   ],
   "source": [
    "S = set([(l1,l2) for l1 in range(21) for l2 in range(21)])\n",
    "R = range(0,401, 2)\n",
    "\n",
    "def poisson(n, lamb=1):\n",
    "    return ((lamb ** n)/np.math.factorial(n))*np.exp(-lamb) if n >= 0 else 0\n",
    "\n",
    "\"\"\"\n",
    "Produce possible actions from state s\n",
    "Here s is an ellement of S\n",
    "\"\"\"\n",
    "def actions(s):\n",
    "    return range(-min(5, s[1]), min(5, s[0]) + 1)\n",
    "\n",
    "\n",
    "\"\"\"\n",
    "We assume that the action for the last state.\n",
    "last_state: number of cars we have at the two lots\n",
    "action: number of cars we move from lot 1 to lot 2\n",
    "reward: amount we make\n",
    "next state the number of cars we expect to have tomarow\n",
    "\"\"\"\n",
    "def dymanics(next_state, reward, last_state, action) -> float:\n",
    "    if (reward - action*2) % 10 != 0:\n",
    "        # this is not possible since we should have sold a natrual number of cars\n",
    "        return 0\n",
    "    num_sold = (reward - action*2) // 10\n",
    "    # compute the probability\n",
    "    # sum over disjoint events\n",
    "    prob = 0\n",
    "    for sold_at_lot_1 in range(num_sold + 1):\n",
    "        # if we assume the number of cars sold at one lot is fixed then\n",
    "        # we can compute the probability.\n",
    "        # since each one of these events are disjoint we can sum there probabilities.\n",
    "        sold_at_lot_2 = num_sold - sold_at_lot_1\n",
    "        num_end_of_day_lot_1 = next_state[0] + action # we assume this includes the newly arived cars\n",
    "        num_end_of_day_lot_2 = next_state[1] - action\n",
    "        num_arived_lot_1 = num_end_of_day_lot_1 + sold_at_lot_1 - last_state[0]\n",
    "        num_arived_lot_2 = num_end_of_day_lot_2 + sold_at_lot_2 - last_state[1]\n",
    "        prob += (\n",
    "            poisson(sold_at_lot_1, lamb=3)\n",
    "            *poisson(sold_at_lot_2, lamb=4)\n",
    "            *poisson(num_arived_lot_1, lamb=3)\n",
    "            *poisson(num_arived_lot_2, lamb=2))\n",
    "    return prob\n",
    "\n",
    "print(S)"
   ]
  },
  {
   "cell_type": "code",
   "execution_count": 22,
   "metadata": {},
   "outputs": [
    {
     "output_type": "display_data",
     "data": {
      "text/plain": "HBox(children=(IntProgress(value=0, max=441), HTML(value='')))",
      "application/vnd.jupyter.widget-view+json": {
       "version_major": 2,
       "version_minor": 0,
       "model_id": "e2b2e99dc0be478586d086c4961906a5"
      }
     },
     "metadata": {}
    },
    {
     "output_type": "error",
     "ename": "KeyboardInterrupt",
     "evalue": "",
     "traceback": [
      "\u001b[0;31m---------------------------------------------------------------------------\u001b[0m",
      "\u001b[0;31mKeyboardInterrupt\u001b[0m                         Traceback (most recent call last)",
      "\u001b[0;32m<ipython-input-22-6b0c4fdced32>\u001b[0m in \u001b[0;36m<module>\u001b[0;34m\u001b[0m\n\u001b[0;32m----> 1\u001b[0;31m \u001b[0mpolicy_iteration\u001b[0m\u001b[0;34m(\u001b[0m\u001b[0mS\u001b[0m\u001b[0;34m,\u001b[0m \u001b[0mR\u001b[0m\u001b[0;34m,\u001b[0m \u001b[0mdymanics\u001b[0m\u001b[0;34m,\u001b[0m \u001b[0mactions\u001b[0m\u001b[0;34m,\u001b[0m \u001b[0;36m0.9\u001b[0m\u001b[0;34m,\u001b[0m \u001b[0;36m0.01\u001b[0m\u001b[0;34m)\u001b[0m\u001b[0;34m\u001b[0m\u001b[0;34m\u001b[0m\u001b[0m\n\u001b[0m",
      "\u001b[0;32m<ipython-input-20-044b2e6a501d>\u001b[0m in \u001b[0;36mpolicy_iteration\u001b[0;34m(S, R, p, A, gamma, theta)\u001b[0m\n\u001b[1;32m     25\u001b[0m             \u001b[0;32mfor\u001b[0m \u001b[0ms\u001b[0m \u001b[0;32min\u001b[0m \u001b[0mtqdm\u001b[0m\u001b[0;34m(\u001b[0m\u001b[0mS\u001b[0m\u001b[0;34m)\u001b[0m\u001b[0;34m:\u001b[0m\u001b[0;34m\u001b[0m\u001b[0;34m\u001b[0m\u001b[0m\n\u001b[1;32m     26\u001b[0m                 \u001b[0mv\u001b[0m \u001b[0;34m=\u001b[0m \u001b[0mV\u001b[0m\u001b[0;34m[\u001b[0m\u001b[0ms\u001b[0m\u001b[0;34m]\u001b[0m\u001b[0;34m\u001b[0m\u001b[0;34m\u001b[0m\u001b[0m\n\u001b[0;32m---> 27\u001b[0;31m                 \u001b[0mV\u001b[0m\u001b[0;34m[\u001b[0m\u001b[0ms\u001b[0m\u001b[0;34m]\u001b[0m \u001b[0;34m=\u001b[0m \u001b[0msum\u001b[0m\u001b[0;34m(\u001b[0m\u001b[0;34m[\u001b[0m\u001b[0mp\u001b[0m\u001b[0;34m(\u001b[0m\u001b[0ms_\u001b[0m\u001b[0;34m,\u001b[0m\u001b[0mr\u001b[0m\u001b[0;34m,\u001b[0m\u001b[0ms\u001b[0m\u001b[0;34m,\u001b[0m\u001b[0mpi\u001b[0m\u001b[0;34m[\u001b[0m\u001b[0ms\u001b[0m\u001b[0;34m]\u001b[0m\u001b[0;34m)\u001b[0m \u001b[0;34m*\u001b[0m \u001b[0;34m(\u001b[0m\u001b[0mr\u001b[0m \u001b[0;34m+\u001b[0m \u001b[0mgamma\u001b[0m\u001b[0;34m*\u001b[0m\u001b[0mV\u001b[0m\u001b[0;34m[\u001b[0m\u001b[0ms\u001b[0m\u001b[0;34m]\u001b[0m\u001b[0;34m)\u001b[0m \u001b[0;32mfor\u001b[0m \u001b[0ms_\u001b[0m\u001b[0;34m,\u001b[0m \u001b[0mr\u001b[0m \u001b[0;32min\u001b[0m \u001b[0mproduct\u001b[0m\u001b[0;34m(\u001b[0m\u001b[0mS\u001b[0m\u001b[0;34m,\u001b[0m \u001b[0mR\u001b[0m\u001b[0;34m)\u001b[0m\u001b[0;34m]\u001b[0m\u001b[0;34m)\u001b[0m\u001b[0;34m\u001b[0m\u001b[0;34m\u001b[0m\u001b[0m\n\u001b[0m\u001b[1;32m     28\u001b[0m                 \u001b[0mdelta\u001b[0m \u001b[0;34m=\u001b[0m \u001b[0mmax\u001b[0m\u001b[0;34m(\u001b[0m\u001b[0mdelta\u001b[0m\u001b[0;34m,\u001b[0m \u001b[0mnp\u001b[0m\u001b[0;34m.\u001b[0m\u001b[0mabs\u001b[0m\u001b[0;34m(\u001b[0m\u001b[0mv\u001b[0m \u001b[0;34m-\u001b[0m \u001b[0mV\u001b[0m\u001b[0;34m[\u001b[0m\u001b[0ms\u001b[0m\u001b[0;34m]\u001b[0m\u001b[0;34m)\u001b[0m\u001b[0;34m)\u001b[0m\u001b[0;34m\u001b[0m\u001b[0;34m\u001b[0m\u001b[0m\n\u001b[1;32m     29\u001b[0m             \u001b[0mprint\u001b[0m\u001b[0;34m(\u001b[0m\u001b[0mdelta\u001b[0m\u001b[0;34m)\u001b[0m\u001b[0;34m\u001b[0m\u001b[0;34m\u001b[0m\u001b[0m\n",
      "\u001b[0;32m<ipython-input-20-044b2e6a501d>\u001b[0m in \u001b[0;36m<listcomp>\u001b[0;34m(.0)\u001b[0m\n\u001b[1;32m     25\u001b[0m             \u001b[0;32mfor\u001b[0m \u001b[0ms\u001b[0m \u001b[0;32min\u001b[0m \u001b[0mtqdm\u001b[0m\u001b[0;34m(\u001b[0m\u001b[0mS\u001b[0m\u001b[0;34m)\u001b[0m\u001b[0;34m:\u001b[0m\u001b[0;34m\u001b[0m\u001b[0;34m\u001b[0m\u001b[0m\n\u001b[1;32m     26\u001b[0m                 \u001b[0mv\u001b[0m \u001b[0;34m=\u001b[0m \u001b[0mV\u001b[0m\u001b[0;34m[\u001b[0m\u001b[0ms\u001b[0m\u001b[0;34m]\u001b[0m\u001b[0;34m\u001b[0m\u001b[0;34m\u001b[0m\u001b[0m\n\u001b[0;32m---> 27\u001b[0;31m                 \u001b[0mV\u001b[0m\u001b[0;34m[\u001b[0m\u001b[0ms\u001b[0m\u001b[0;34m]\u001b[0m \u001b[0;34m=\u001b[0m \u001b[0msum\u001b[0m\u001b[0;34m(\u001b[0m\u001b[0;34m[\u001b[0m\u001b[0mp\u001b[0m\u001b[0;34m(\u001b[0m\u001b[0ms_\u001b[0m\u001b[0;34m,\u001b[0m\u001b[0mr\u001b[0m\u001b[0;34m,\u001b[0m\u001b[0ms\u001b[0m\u001b[0;34m,\u001b[0m\u001b[0mpi\u001b[0m\u001b[0;34m[\u001b[0m\u001b[0ms\u001b[0m\u001b[0;34m]\u001b[0m\u001b[0;34m)\u001b[0m \u001b[0;34m*\u001b[0m \u001b[0;34m(\u001b[0m\u001b[0mr\u001b[0m \u001b[0;34m+\u001b[0m \u001b[0mgamma\u001b[0m\u001b[0;34m*\u001b[0m\u001b[0mV\u001b[0m\u001b[0;34m[\u001b[0m\u001b[0ms\u001b[0m\u001b[0;34m]\u001b[0m\u001b[0;34m)\u001b[0m \u001b[0;32mfor\u001b[0m \u001b[0ms_\u001b[0m\u001b[0;34m,\u001b[0m \u001b[0mr\u001b[0m \u001b[0;32min\u001b[0m \u001b[0mproduct\u001b[0m\u001b[0;34m(\u001b[0m\u001b[0mS\u001b[0m\u001b[0;34m,\u001b[0m \u001b[0mR\u001b[0m\u001b[0;34m)\u001b[0m\u001b[0;34m]\u001b[0m\u001b[0;34m)\u001b[0m\u001b[0;34m\u001b[0m\u001b[0;34m\u001b[0m\u001b[0m\n\u001b[0m\u001b[1;32m     28\u001b[0m                 \u001b[0mdelta\u001b[0m \u001b[0;34m=\u001b[0m \u001b[0mmax\u001b[0m\u001b[0;34m(\u001b[0m\u001b[0mdelta\u001b[0m\u001b[0;34m,\u001b[0m \u001b[0mnp\u001b[0m\u001b[0;34m.\u001b[0m\u001b[0mabs\u001b[0m\u001b[0;34m(\u001b[0m\u001b[0mv\u001b[0m \u001b[0;34m-\u001b[0m \u001b[0mV\u001b[0m\u001b[0;34m[\u001b[0m\u001b[0ms\u001b[0m\u001b[0;34m]\u001b[0m\u001b[0;34m)\u001b[0m\u001b[0;34m)\u001b[0m\u001b[0;34m\u001b[0m\u001b[0;34m\u001b[0m\u001b[0m\n\u001b[1;32m     29\u001b[0m             \u001b[0mprint\u001b[0m\u001b[0;34m(\u001b[0m\u001b[0mdelta\u001b[0m\u001b[0;34m)\u001b[0m\u001b[0;34m\u001b[0m\u001b[0;34m\u001b[0m\u001b[0m\n",
      "\u001b[0;32m<ipython-input-21-a53adeddc0a7>\u001b[0m in \u001b[0;36mdymanics\u001b[0;34m(next_state, reward, last_state, action)\u001b[0m\n\u001b[1;32m     41\u001b[0m             \u001b[0;34m*\u001b[0m\u001b[0mpoisson\u001b[0m\u001b[0;34m(\u001b[0m\u001b[0msold_at_lot_2\u001b[0m\u001b[0;34m,\u001b[0m \u001b[0mlamb\u001b[0m\u001b[0;34m=\u001b[0m\u001b[0;36m4\u001b[0m\u001b[0;34m)\u001b[0m\u001b[0;34m\u001b[0m\u001b[0;34m\u001b[0m\u001b[0m\n\u001b[1;32m     42\u001b[0m             \u001b[0;34m*\u001b[0m\u001b[0mpoisson\u001b[0m\u001b[0;34m(\u001b[0m\u001b[0mnum_arived_lot_1\u001b[0m\u001b[0;34m,\u001b[0m \u001b[0mlamb\u001b[0m\u001b[0;34m=\u001b[0m\u001b[0;36m3\u001b[0m\u001b[0;34m)\u001b[0m\u001b[0;34m\u001b[0m\u001b[0;34m\u001b[0m\u001b[0m\n\u001b[0;32m---> 43\u001b[0;31m             *poisson(num_arived_lot_2, lamb=2))\n\u001b[0m\u001b[1;32m     44\u001b[0m     \u001b[0;32mreturn\u001b[0m \u001b[0mprob\u001b[0m\u001b[0;34m\u001b[0m\u001b[0;34m\u001b[0m\u001b[0m\n\u001b[1;32m     45\u001b[0m \u001b[0;34m\u001b[0m\u001b[0m\n",
      "\u001b[0;32m<ipython-input-21-a53adeddc0a7>\u001b[0m in \u001b[0;36mpoisson\u001b[0;34m(n, lamb)\u001b[0m\n\u001b[1;32m      3\u001b[0m \u001b[0;34m\u001b[0m\u001b[0m\n\u001b[1;32m      4\u001b[0m \u001b[0;32mdef\u001b[0m \u001b[0mpoisson\u001b[0m\u001b[0;34m(\u001b[0m\u001b[0mn\u001b[0m\u001b[0;34m,\u001b[0m \u001b[0mlamb\u001b[0m\u001b[0;34m=\u001b[0m\u001b[0;36m1\u001b[0m\u001b[0;34m)\u001b[0m\u001b[0;34m:\u001b[0m\u001b[0;34m\u001b[0m\u001b[0;34m\u001b[0m\u001b[0m\n\u001b[0;32m----> 5\u001b[0;31m     \u001b[0;32mreturn\u001b[0m \u001b[0;34m(\u001b[0m\u001b[0;34m(\u001b[0m\u001b[0mlamb\u001b[0m \u001b[0;34m**\u001b[0m \u001b[0mn\u001b[0m\u001b[0;34m)\u001b[0m\u001b[0;34m/\u001b[0m\u001b[0mnp\u001b[0m\u001b[0;34m.\u001b[0m\u001b[0mmath\u001b[0m\u001b[0;34m.\u001b[0m\u001b[0mfactorial\u001b[0m\u001b[0;34m(\u001b[0m\u001b[0mn\u001b[0m\u001b[0;34m)\u001b[0m\u001b[0;34m)\u001b[0m\u001b[0;34m*\u001b[0m\u001b[0mnp\u001b[0m\u001b[0;34m.\u001b[0m\u001b[0mexp\u001b[0m\u001b[0;34m(\u001b[0m\u001b[0;34m-\u001b[0m\u001b[0mlamb\u001b[0m\u001b[0;34m)\u001b[0m \u001b[0;32mif\u001b[0m \u001b[0mn\u001b[0m \u001b[0;34m>=\u001b[0m \u001b[0;36m0\u001b[0m \u001b[0;32melse\u001b[0m \u001b[0;36m0\u001b[0m\u001b[0;34m\u001b[0m\u001b[0;34m\u001b[0m\u001b[0m\n\u001b[0m\u001b[1;32m      6\u001b[0m \u001b[0;34m\u001b[0m\u001b[0m\n\u001b[1;32m      7\u001b[0m \"\"\"\n",
      "\u001b[0;31mKeyboardInterrupt\u001b[0m: "
     ]
    }
   ],
   "source": [
    "policy_iteration(S, R, dymanics, actions, 0.9, 0.01)"
   ]
  },
  {
   "cell_type": "code",
   "execution_count": null,
   "metadata": {},
   "outputs": [],
   "source": []
  }
 ],
 "metadata": {
  "language_info": {
   "codemirror_mode": {
    "name": "ipython",
    "version": 3
   },
   "file_extension": ".py",
   "mimetype": "text/x-python",
   "name": "python",
   "nbconvert_exporter": "python",
   "pygments_lexer": "ipython3",
   "version": "3.7.4-final"
  },
  "orig_nbformat": 2,
  "kernelspec": {
   "name": "python3",
   "display_name": "Python 3"
  }
 },
 "nbformat": 4,
 "nbformat_minor": 2
}